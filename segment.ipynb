{
 "cells": [
  {
   "cell_type": "code",
   "execution_count": 7,
   "metadata": {},
   "outputs": [
    {
     "data": {
      "text/plain": [
       "True"
      ]
     },
     "execution_count": 7,
     "metadata": {},
     "output_type": "execute_result"
    }
   ],
   "source": [
    "import cv2\n",
    "import numpy as np\n",
    "\n",
    "# 加载图像\n",
    "img = cv2.imread('./mao/img.jpeg')\n",
    "\n",
    "# 如果图像为空，退出\n",
    "if img is None:\n",
    "    print(\"无法加载图像\")\n",
    "    exit()\n",
    "\n",
    "\n",
    "height, width = img.shape[:2]\n",
    "\n",
    "gray_image = cv2.cvtColor(img, cv2.COLOR_BGR2GRAY)\n",
    "# 设置阈值，进行二值化，保留黑色部分\n",
    "_, binary_image = cv2.threshold(gray_image, 150, 255, cv2.THRESH_BINARY_INV)\n",
    "\n",
    "treeMask = binary_image == 255\n",
    "# hole = binary_image == 255\n",
    "\n",
    "# removed = img.copy()\n",
    "tree = img.copy()\n",
    "\n",
    "# 将原始图像中的白色部分去除\n",
    "# removed[mask] = (255, 255, 255)  # 将保留部分改为白色\n",
    "# tree[treeMask] = (255, 255, 255)  # 将保留部分改为白色\n",
    "\n",
    "\n",
    "transparent_background = np.zeros((height, width, 4), dtype=np.uint8)\n",
    "transparent_background[:, :, :3] = tree  # 前景 (BGR 通道)\n",
    "transparent_background[:, :, 3] = binary_image     # Alpha 通道 (255 表示不透明，0 表示透明)\n",
    "# 保存结果为 PNG 格式，其中透明通道保留\n",
    "# cv2.imwrite('binary.png', binary_image)\n",
    "cv2.imwrite('transparent_background.png', transparent_background)\n",
    "# cv2.imwrite('tree.png', tree)\n"
   ]
  },
  {
   "cell_type": "markdown",
   "metadata": {},
   "source": [
    "修复背景"
   ]
  },
  {
   "cell_type": "code",
   "execution_count": 28,
   "metadata": {},
   "outputs": [
    {
     "data": {
      "text/plain": [
       "True"
      ]
     },
     "execution_count": 28,
     "metadata": {},
     "output_type": "execute_result"
    }
   ],
   "source": [
    "\n",
    "repaired_image = cv2.inpaint(tree, binary_image, 20, cv2.INPAINT_TELEA)\n",
    "cv2.imwrite('background.png', repaired_image)\n"
   ]
  },
  {
   "cell_type": "markdown",
   "metadata": {},
   "source": [
    "根据data里的position来计算每个node的bounding box，之后将二值化的图像根据bbox切割，得到每个node的mask"
   ]
  },
  {
   "cell_type": "code",
   "execution_count": 9,
   "metadata": {},
   "outputs": [
    {
     "data": {
      "text/plain": [
       "[{'name': '毛公', 'position': [[456, 76.562], [60, 130]]},\n",
       " {'name': '馬副', 'position': [[132, 418.56], [60, 125]]},\n",
       " {'name': '鄭玄', 'position': [[135, 710.5], [60, 116]]},\n",
       " {'name': '鄭衆', 'position': [[243, 426.56], [60, 120]]},\n",
       " {'name': '謝曼卿', 'position': [[350, 425.5], [60, 185]]},\n",
       " {'name': '衛宏', 'position': [[240, 1010.5], [64, 120]]},\n",
       " {'name': '徐巡', 'position': [[235, 1298.5], [68, 123]]},\n",
       " {'name': '賈𡽪', 'position': [[458, 1005.56], [60, 140]]},\n",
       " {'name': '逵', 'position': [[453, 1298], [60, 70]]},\n",
       " {'name': '孔子建', 'position': [[453, 437.56], [60, 187]]},\n",
       " {'name': '僖', 'position': [[453, 698.562], [60, 67]]},\n",
       " {'name': '孫期', 'position': [[567, 417.562], [60, 135]]},\n",
       " {'name': '尹敬', 'position': [[670, 423.562], [60, 125]]},\n",
       " {'name': '貫長卿', 'position': [[786, 680.562], [60, 176]]},\n",
       " {'name': '解迎年', 'position': [[790, 925.562], [60, 150]]},\n",
       " {'name': '徐敖', 'position': [[789, 1128.56], [60, 120]]},\n",
       " {'name': '陳俠', 'position': [[787, 1303.56], [60, 122]]}]"
      ]
     },
     "execution_count": 9,
     "metadata": {},
     "output_type": "execute_result"
    }
   ],
   "source": [
    "import os, json\n",
    "\n",
    "with open(\"./mao/data.json\", \"r\", encoding=\"utf-8\") as f:\n",
    "    data = json.load(f)\n",
    "\n",
    "def traverse_and_store(data, result, path=\"\"):\n",
    "    if not data:\n",
    "        return\n",
    "\n",
    "    # 将当前节点的 name 和 position 存储到结果列表\n",
    "    result.append({\"name\": data[\"name\"], \"position\": data.get(\"position\")})\n",
    "\n",
    "    # 遍历子节点\n",
    "    for child in data.get(\"children\", []):\n",
    "        traverse_and_store(child, result, path)\n",
    "\n",
    "results = []\n",
    "traverse_and_store(data, results)\n",
    "\n",
    "results"
   ]
  },
  {
   "cell_type": "code",
   "execution_count": 20,
   "metadata": {},
   "outputs": [],
   "source": [
    "import os\n",
    "import cv2\n",
    "import json\n",
    "\n",
    "image_file = \"./mao/mask.png\"  # 指定图片路径\n",
    "output_dir = \"./mao/masks\"\n",
    "\n",
    "image = cv2.imread(image_file, cv2.IMREAD_UNCHANGED)\n",
    "\n",
    "\n",
    "for item in results:\n",
    "    name = item[\"name\"]\n",
    "    bbox = item['position']\n",
    "    x, y = int(bbox[0][0]), int(bbox[0][1])\n",
    "    w, h = int(bbox[1][0]), int(bbox[1][1])\n",
    "    x2, y2 = x + w, y + h\n",
    "\n",
    "    # 裁切图片\n",
    "    cropped = image[y:y2, x:x2]\n",
    "\n",
    "    # 构建输出文件名\n",
    "    output_path = os.path.join(output_dir, f\"{name}.png\")\n",
    "\n",
    "    # 保存裁切的图片\n",
    "    cv2.imwrite(output_path, cropped)\n"
   ]
  }
 ],
 "metadata": {
  "kernelspec": {
   "display_name": "ancient_vis",
   "language": "python",
   "name": "python3"
  },
  "language_info": {
   "codemirror_mode": {
    "name": "ipython",
    "version": 3
   },
   "file_extension": ".py",
   "mimetype": "text/x-python",
   "name": "python",
   "nbconvert_exporter": "python",
   "pygments_lexer": "ipython3",
   "version": "3.10.12"
  }
 },
 "nbformat": 4,
 "nbformat_minor": 2
}
